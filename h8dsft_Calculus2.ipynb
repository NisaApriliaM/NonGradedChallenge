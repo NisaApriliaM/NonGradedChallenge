{
  "nbformat": 4,
  "nbformat_minor": 0,
  "metadata": {
    "colab": {
      "name": "h8dsft_Calculus2.ipynb",
      "provenance": []
    },
    "kernelspec": {
      "name": "python3",
      "display_name": "Python 3"
    },
    "language_info": {
      "name": "python"
    }
  },
  "cells": [
    {
      "cell_type": "code",
      "metadata": {
        "id": "P_4sDcIbYtch"
      },
      "source": [
        "import sympy as sy"
      ],
      "execution_count": 1,
      "outputs": []
    },
    {
      "cell_type": "code",
      "metadata": {
        "colab": {
          "base_uri": "https://localhost:8080/",
          "height": 39
        },
        "id": "debya2QhFQ0x",
        "outputId": "0d8d4f8c-b35e-4310-c737-8b72bfd5a074"
      },
      "source": [
        "# menghitung integral f(x) = 3*x**2 - 6*x + 3\n",
        "\n",
        "x = sy.Symbol('x', real=True)\n",
        "f = 3*x**2 - 6*x + 3\n",
        "sy.integrate(f)"
      ],
      "execution_count": 3,
      "outputs": [
        {
          "output_type": "execute_result",
          "data": {
            "text/latex": "$\\displaystyle x^{3} - 3 x^{2} + 3 x$",
            "text/plain": [
              "x**3 - 3*x**2 + 3*x"
            ]
          },
          "metadata": {},
          "execution_count": 3
        }
      ]
    },
    {
      "cell_type": "code",
      "metadata": {
        "colab": {
          "base_uri": "https://localhost:8080/",
          "height": 54
        },
        "id": "7JO_xWQFFwed",
        "outputId": "8159128c-4c42-41a7-af74-1c57db6319fb"
      },
      "source": [
        "# menghitung integral f(x) = 8*x**3 - x**2 + 5*x - 1\n",
        "\n",
        "x = sy.Symbol('x', real=True)\n",
        "f = 8*x**3 - x**2 + 5*x - 1\n",
        "sy.integrate(f)"
      ],
      "execution_count": 4,
      "outputs": [
        {
          "output_type": "execute_result",
          "data": {
            "text/latex": "$\\displaystyle 2 x^{4} - \\frac{x^{3}}{3} + \\frac{5 x^{2}}{2} - x$",
            "text/plain": [
              "2*x**4 - x**3/3 + 5*x**2/2 - x"
            ]
          },
          "metadata": {},
          "execution_count": 4
        }
      ]
    }
  ]
}