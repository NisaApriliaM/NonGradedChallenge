{
  "nbformat": 4,
  "nbformat_minor": 0,
  "metadata": {
    "colab": {
      "name": "h8dsft_Linear_Algebra2.ipynb",
      "provenance": []
    },
    "kernelspec": {
      "name": "python3",
      "display_name": "Python 3"
    },
    "language_info": {
      "name": "python"
    }
  },
  "cells": [
    {
      "cell_type": "code",
      "metadata": {
        "id": "Lx8R95Zyvx7L"
      },
      "source": [
        "import numpy as np"
      ],
      "execution_count": 1,
      "outputs": []
    },
    {
      "cell_type": "markdown",
      "metadata": {
        "id": "v8Biptev3-3T"
      },
      "source": [
        "1) Buat tensor "
      ]
    },
    {
      "cell_type": "markdown",
      "metadata": {
        "id": "G8jp4z8N4Av4"
      },
      "source": [
        "2) Perkalian matrix"
      ]
    },
    {
      "cell_type": "code",
      "metadata": {
        "id": "4ncW_Ttg4Fwv"
      },
      "source": [
        "A = np.array([[23,50,19], \n",
        "              [7,12,109], \n",
        "              [57,67,98]])\n",
        "B = np.array([[17],\n",
        "              [22],\n",
        "              [19]])\n"
      ],
      "execution_count": 11,
      "outputs": []
    },
    {
      "cell_type": "code",
      "metadata": {
        "colab": {
          "base_uri": "https://localhost:8080/"
        },
        "id": "XoOUzp7s4lJ7",
        "outputId": "5724e5a0-bb49-499e-f4d1-2ee22ea09887"
      },
      "source": [
        "# A x B \n",
        "print(A@B)"
      ],
      "execution_count": 12,
      "outputs": [
        {
          "output_type": "stream",
          "name": "stdout",
          "text": [
            "[[1852]\n",
            " [2454]\n",
            " [4305]]\n"
          ]
        }
      ]
    },
    {
      "cell_type": "markdown",
      "metadata": {
        "id": "Oye_k9lmMaO9"
      },
      "source": [
        "3) Find transpose, determinent, inverse of matrix A "
      ]
    },
    {
      "cell_type": "code",
      "metadata": {
        "colab": {
          "base_uri": "https://localhost:8080/"
        },
        "id": "6dYwYyORLtsW",
        "outputId": "b8886364-8d78-47e9-f132-d4d26b3021a1"
      },
      "source": [
        "# transpose matrix A \n",
        "print(A)\n",
        "print('transponse:\\n', A.T)"
      ],
      "execution_count": 13,
      "outputs": [
        {
          "output_type": "stream",
          "name": "stdout",
          "text": [
            "[[ 23  50  19]\n",
            " [  7  12 109]\n",
            " [ 57  67  98]]\n",
            "transponse:\n",
            " [[ 23   7  57]\n",
            " [ 50  12  67]\n",
            " [ 19 109  98]]\n"
          ]
        }
      ]
    },
    {
      "cell_type": "code",
      "metadata": {
        "colab": {
          "base_uri": "https://localhost:8080/"
        },
        "id": "Ps54_RAtMuRG",
        "outputId": "82e28148-71e2-481d-9416-822cea5c0c18"
      },
      "source": [
        "# hitung determinant \n",
        "print(np.linalg.det(A))"
      ],
      "execution_count": 14,
      "outputs": [
        {
          "output_type": "stream",
          "name": "stdout",
          "text": [
            "131344.0000000002\n"
          ]
        }
      ]
    },
    {
      "cell_type": "code",
      "metadata": {
        "colab": {
          "base_uri": "https://localhost:8080/"
        },
        "id": "l8KU0yeeNaW1",
        "outputId": "5d09f4ce-daab-4759-9661-55f7c5098c85"
      },
      "source": [
        "# inverse matrix A \n",
        "print(np.linalg.inv(A))"
      ],
      "execution_count": 16,
      "outputs": [
        {
          "output_type": "stream",
          "name": "stdout",
          "text": [
            "[[-0.0466485  -0.02761451  0.03975819]\n",
            " [ 0.04208034  0.00891552 -0.01807467]\n",
            " [-0.00163692  0.0099662  -0.00056341]]\n"
          ]
        }
      ]
    }
  ]
}