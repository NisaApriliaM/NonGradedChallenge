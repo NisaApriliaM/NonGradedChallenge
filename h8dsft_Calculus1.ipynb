{
  "nbformat": 4,
  "nbformat_minor": 0,
  "metadata": {
    "colab": {
      "name": "h8dsft_Calculus1.ipynb",
      "provenance": []
    },
    "kernelspec": {
      "name": "python3",
      "display_name": "Python 3"
    },
    "language_info": {
      "name": "python"
    }
  },
  "cells": [
    {
      "cell_type": "code",
      "metadata": {
        "id": "82YdNlCH380K"
      },
      "source": [
        "import sympy as sy"
      ],
      "execution_count": 1,
      "outputs": []
    },
    {
      "cell_type": "code",
      "metadata": {
        "colab": {
          "base_uri": "https://localhost:8080/",
          "height": 39
        },
        "id": "E1cxkHlH_iT2",
        "outputId": "e9837e28-4e0d-4804-f2cd-03201c6242c6"
      },
      "source": [
        "x = sy.Symbol(\"x\", real=True)\n",
        "y = x**2 + 2*x + 1\n",
        "y.diff(x)"
      ],
      "execution_count": 2,
      "outputs": [
        {
          "output_type": "execute_result",
          "data": {
            "text/latex": "$\\displaystyle 2 x + 2$",
            "text/plain": [
              "2*x + 2"
            ]
          },
          "metadata": {},
          "execution_count": 2
        }
      ]
    },
    {
      "cell_type": "code",
      "metadata": {
        "colab": {
          "base_uri": "https://localhost:8080/",
          "height": 39
        },
        "id": "dLLwpRH8_8c0",
        "outputId": "27b4f003-de51-459b-e42f-cbe1a1c7fcbf"
      },
      "source": [
        "x = sy.Symbol(\"x\", real=True)\n",
        "y = 4*x**3 - 3*x**2 + 2*x -1\n",
        "y.diff(x)"
      ],
      "execution_count": 3,
      "outputs": [
        {
          "output_type": "execute_result",
          "data": {
            "text/latex": "$\\displaystyle 12 x^{2} - 6 x + 2$",
            "text/plain": [
              "12*x**2 - 6*x + 2"
            ]
          },
          "metadata": {},
          "execution_count": 3
        }
      ]
    }
  ]
}