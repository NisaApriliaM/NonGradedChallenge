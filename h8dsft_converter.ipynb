{
 "cells": [
  {
   "cell_type": "code",
   "execution_count": 36,
   "id": "34909d4d",
   "metadata": {},
   "outputs": [
    {
     "name": "stdout",
     "output_type": "stream",
     "text": [
      "300 kelvin in celcius is: 26.850000000000023\n",
      "300 celcius in kelvin is : 573.15\n"
     ]
    }
   ],
   "source": [
    "#function untuk konversi suhu dari kelvin ke celcius dan sebaliknya\n",
    "def convert1(kel2cel):\n",
    "    '''function untuk konversi suhu kelvin menjadi celcius'''\n",
    "    return kel2cel-273.15\n",
    "\n",
    "def convert2(cel2kel):\n",
    "    '''function untuk konversi suhu celcius menjadi kelvin'''\n",
    "    return cel2kel+273.15\n",
    "\n",
    "#call functions\n",
    "temperature = 300\n",
    "print((temperature), 'kelvin in celcius is:', convert1(temperature))\n",
    "print((temperature), 'celcius in kelvin is :', convert2(temperature))"
   ]
  },
  {
   "cell_type": "code",
   "execution_count": 37,
   "id": "a4ff58ff",
   "metadata": {},
   "outputs": [
    {
     "name": "stdout",
     "output_type": "stream",
     "text": [
      "300 kelvin in fahrenheit is: -159.66999999999996\n",
      "300 celcius in fahrenheit is : 572.0\n"
     ]
    }
   ],
   "source": [
    "#function untuk konversi suhu dari kelvin/celcius ke fahrenheit \n",
    "def convert_from_kel(kel2fah):\n",
    "    '''function untuk konversi suhu kelvin menjadi fahrenheit'''\n",
    "    return kel2fah-273.15*1.8+32\n",
    "\n",
    "def convert_from_cel(cel2fah):\n",
    "    '''function untuk konversi suhu celcius menjadi fahrenheit'''\n",
    "    return cel2fah*1.8+32\n",
    "\n",
    "#call functions \n",
    "temperature = 300 \n",
    "print((temperature), 'kelvin in fahrenheit is:', convert_from_kel(temperature))\n",
    "print((temperature), 'celcius in fahrenheit is :', convert_from_cel(temperature))"
   ]
  },
  {
   "cell_type": "code",
   "execution_count": 48,
   "id": "07e390f5",
   "metadata": {},
   "outputs": [
    {
     "name": "stdout",
     "output_type": "stream",
     "text": [
      "300 fahrenheit in kelvin is: 422.0388888888889\n",
      "300 fahrenheit in fcelcius is: 148.88888888888889\n"
     ]
    }
   ],
   "source": [
    "#function untuk konversi suhu dari fahrenheit ke kelvin/celcius\n",
    "def convert_fah2kel(fah2kel):\n",
    "    '''function untuk konversi suhu fahrenheit menjadi kelvin'''\n",
    "    return ((fah2kel)-32)*5/9+273.15\n",
    "\n",
    "def convert_fah2cel(fah2cel):\n",
    "    '''function untuk konversi suhu fahrenheit menjadi celcius'''\n",
    "    return ((fah2cel)-32)*5/9\n",
    "\n",
    "temperature=300\n",
    "print((temperature), 'fahrenheit in kelvin is:', convert_fah2kel(temperature))\n",
    "print((temperature), 'fahrenheit in fcelcius is:', convert_fah2cel(temperature))"
   ]
  },
  {
   "cell_type": "code",
   "execution_count": null,
   "id": "4a63d3c7",
   "metadata": {},
   "outputs": [],
   "source": []
  }
 ],
 "metadata": {
  "kernelspec": {
   "display_name": "Python 3",
   "language": "python",
   "name": "python3"
  },
  "language_info": {
   "codemirror_mode": {
    "name": "ipython",
    "version": 3
   },
   "file_extension": ".py",
   "mimetype": "text/x-python",
   "name": "python",
   "nbconvert_exporter": "python",
   "pygments_lexer": "ipython3",
   "version": "3.8.8"
  }
 },
 "nbformat": 4,
 "nbformat_minor": 5
}
